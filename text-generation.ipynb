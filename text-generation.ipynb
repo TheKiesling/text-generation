{
 "cells": [
  {
   "cell_type": "markdown",
   "id": "585d72c0",
   "metadata": {},
   "source": [
    "# Text Generation"
   ]
  },
  {
   "cell_type": "markdown",
   "id": "b6324bbe",
   "metadata": {},
   "source": [
    "### José Pablo Kiesling Lange - 21581"
   ]
  },
  {
   "cell_type": "code",
   "execution_count": 1,
   "id": "ba6e1cef",
   "metadata": {},
   "outputs": [
    {
     "name": "stderr",
     "output_type": "stream",
     "text": [
      "c:\\Users\\TheKi\\OneDrive - UVG\\Semestre X\\Procesamiento de Lenguaje Natural\\text-generation\\.venv\\Lib\\site-packages\\tqdm\\auto.py:21: TqdmWarning: IProgress not found. Please update jupyter and ipywidgets. See https://ipywidgets.readthedocs.io/en/stable/user_install.html\n",
      "  from .autonotebook import tqdm as notebook_tqdm\n"
     ]
    }
   ],
   "source": [
    "from datasets import load_dataset"
   ]
  },
  {
   "cell_type": "code",
   "execution_count": 2,
   "id": "2ae80eba",
   "metadata": {},
   "outputs": [],
   "source": [
    "dataset = load_dataset(\"wikitext\", \"wikitext-2-raw-v1\")"
   ]
  },
  {
   "cell_type": "code",
   "execution_count": 3,
   "id": "106c3916",
   "metadata": {},
   "outputs": [],
   "source": [
    "dataset_train = dataset[\"train\"][\"text\"]\n",
    "dataset_test = dataset[\"test\"][\"text\"]"
   ]
  },
  {
   "cell_type": "markdown",
   "id": "1086f432",
   "metadata": {},
   "source": [
    "## Text Normalization"
   ]
  },
  {
   "cell_type": "code",
   "execution_count": 4,
   "id": "6516faec",
   "metadata": {},
   "outputs": [],
   "source": [
    "def normalize_text(text):\n",
    "    text = ''.join(char for char in text if char.isalpha() or char.isspace() or char in \".,!?;:'\\\"-\")\n",
    "    text = ' '.join(word for word in text.split() if all(ord(char) < 128 for char in word))\n",
    "    text = ' '.join(text.split())\n",
    "    return text "
   ]
  },
  {
   "cell_type": "code",
   "execution_count": 5,
   "id": "d5ba8750",
   "metadata": {},
   "outputs": [],
   "source": [
    "dataset_train = [normalize_text(text) for text in dataset_train if text.strip() != '']\n",
    "dataset_test = [normalize_text(text) for text in dataset_test if text.strip() != '']"
   ]
  },
  {
   "cell_type": "markdown",
   "id": "afde13e7",
   "metadata": {},
   "source": [
    "## Feed Forward Neural Network"
   ]
  }
 ],
 "metadata": {
  "kernelspec": {
   "display_name": ".venv",
   "language": "python",
   "name": "python3"
  },
  "language_info": {
   "codemirror_mode": {
    "name": "ipython",
    "version": 3
   },
   "file_extension": ".py",
   "mimetype": "text/x-python",
   "name": "python",
   "nbconvert_exporter": "python",
   "pygments_lexer": "ipython3",
   "version": "3.11.9"
  }
 },
 "nbformat": 4,
 "nbformat_minor": 5
}
